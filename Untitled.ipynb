{
 "cells": [
  {
   "cell_type": "markdown",
   "id": "7c05c6c5",
   "metadata": {},
   "source": [
    "# Predicting the Sale Price of Bulldozers using Machine Learning \n",
    "\n",
    "In this notebook, we're going to go through an example machine learning project with the goal of predicting the sale price of bulldozers.\n",
    "\n",
    "## 1. Problem definiiton\n",
    "\n",
    "> How well can we predict the future sale price of a bulldozer, gien its characteristics and previous examples of how much similar bulldozers have been sold for?  \n",
    "\n",
    "## 2. Data\n",
    "\n",
    "The data is downloaded from the Kaggle Blubook for Bulldozers competition: \n",
    "\n",
    "There are 3 main datasets:\n",
    "\n",
    "* Train.csv is the training set, which contains data through the end of 2011.\n",
    "* Valid.csv is the validation set, which contains data from January 1, 2012 - April 30, 2012 You make predictions on this set throughout the majority of the competition. Your score on this set is used to create the public leaderboard.\n",
    "* Test.csv is the test set, which won't be released until the last week of the competition. It contains data from May 1, 2012 - November 2012. Your score on the test set determines your final rank for the competition.\n",
    "\n",
    "## 3. Evaluation\n",
    "\n",
    "The evaluation metric for this competition is the RMSLE (root mean squared log error) between the actual and predicted auction prices.\n",
    "\n",
    "For more on the evaluation of this project check: https://www.kaggle.com/competitions/bluebook-for-bulldozers/overview/evaluation\n",
    "\n",
    "**Note:** The goal for most regression evaluation metrics is to minimize the error. For example, olur goal for this project will be to build a machine learning model which minimizes RMSLE.\n",
    "\n",
    "\n",
    "## 4. Features\n",
    "\n",
    "Kaggle provides a data dictionary detailing all of the feature sof the dataset. You can view this data dictionary on Google Sheets:\n",
    "https://docs.google.com/spreadsheets/d/1PF52DbUncaXz7Od9Td4naVNnQuXPn3Q8XX3KmnSXPxY/edit#gid=1537614060"
   ]
  },
  {
   "cell_type": "code",
   "execution_count": 2,
   "id": "9b18594e",
   "metadata": {},
   "outputs": [],
   "source": [
    "import numpy as np\n",
    "import pandas as pd\n",
    "import matplotlib.pyplot as plt\n",
    "import sklearn"
   ]
  },
  {
   "cell_type": "code",
   "execution_count": null,
   "id": "aceedbd1",
   "metadata": {},
   "outputs": [],
   "source": []
  }
 ],
 "metadata": {
  "kernelspec": {
   "display_name": "Python 3 (ipykernel)",
   "language": "python",
   "name": "python3"
  },
  "language_info": {
   "codemirror_mode": {
    "name": "ipython",
    "version": 3
   },
   "file_extension": ".py",
   "mimetype": "text/x-python",
   "name": "python",
   "nbconvert_exporter": "python",
   "pygments_lexer": "ipython3",
   "version": "3.9.12"
  }
 },
 "nbformat": 4,
 "nbformat_minor": 5
}
